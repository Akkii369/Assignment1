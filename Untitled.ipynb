{
 "cells": [
  {
   "cell_type": "markdown",
   "id": "c7f4f8ec-e515-4102-8bd4-0cafcbb00e81",
   "metadata": {},
   "source": [
    "Q1. Create one variable containing following type of data:"
   ]
  },
  {
   "cell_type": "markdown",
   "id": "e402ea85-d59a-4fab-85d1-46ca42fa6145",
   "metadata": {},
   "source": [
    "(i) string"
   ]
  },
  {
   "cell_type": "code",
   "execution_count": 1,
   "id": "8e861834-8c76-4c97-91de-efcbeee64182",
   "metadata": {},
   "outputs": [],
   "source": [
    "a = \"Shaquib\""
   ]
  },
  {
   "cell_type": "markdown",
   "id": "bae89ce3-838d-4180-95d2-4e1f13167f3f",
   "metadata": {},
   "source": [
    "(ii) list"
   ]
  },
  {
   "cell_type": "code",
   "execution_count": null,
   "id": "455aab81-9064-4ebf-96ed-b34934cf9f36",
   "metadata": {},
   "outputs": [],
   "source": [
    "lis= [1,2,3,4,\"shaq\",3.455]"
   ]
  },
  {
   "cell_type": "markdown",
   "id": "8d67e3db-f902-4439-bdbc-15b6e3cf1aab",
   "metadata": {},
   "source": [
    "(iii) float"
   ]
  },
  {
   "cell_type": "code",
   "execution_count": 3,
   "id": "fcf97d21-d34a-4f97-a7d8-82cde91acddc",
   "metadata": {},
   "outputs": [],
   "source": [
    "f = 1.23"
   ]
  },
  {
   "cell_type": "markdown",
   "id": "2e58ffa1-b50c-4f70-a961-daf702d42a61",
   "metadata": {},
   "source": [
    "(iv) tuple"
   ]
  },
  {
   "cell_type": "code",
   "execution_count": 4,
   "id": "bb1adab0-86c3-4f04-96e0-2e0f93ffcfa8",
   "metadata": {},
   "outputs": [],
   "source": [
    "tup = (\"qwerty\", 12, 13.45, True)"
   ]
  },
  {
   "cell_type": "markdown",
   "id": "0037ffa0-3761-492d-aca4-532fe062f151",
   "metadata": {},
   "source": [
    "Q2. Given are some following variables containing data:"
   ]
  },
  {
   "cell_type": "markdown",
   "id": "7f1a07f3-a574-4dc9-8be4-cabba6a8496c",
   "metadata": {},
   "source": [
    "(i) var1 = ‘ ‘      "
   ]
  },
  {
   "cell_type": "markdown",
   "id": "cf585f04-989d-4712-88f0-cf98d712cdf6",
   "metadata": {},
   "source": [
    "ans= String"
   ]
  },
  {
   "cell_type": "markdown",
   "id": "610ddbb5-6221-4d7e-a1c8-622e8518ca11",
   "metadata": {},
   "source": [
    "(ii) var2 = ‘[ DS , ML , Python]’"
   ]
  },
  {
   "cell_type": "markdown",
   "id": "4c56462c-56ee-42fd-919c-6427c2dec33c",
   "metadata": {},
   "source": [
    "ans= String"
   ]
  },
  {
   "cell_type": "markdown",
   "id": "e4fb725b-d8f8-4333-83c6-861382d03694",
   "metadata": {},
   "source": [
    "(iii) var3 = [ ‘DS’ , ’ML’ , ‘Python’ ]"
   ]
  },
  {
   "cell_type": "markdown",
   "id": "52771fcb-fb98-47f0-b514-ecf961166a96",
   "metadata": {},
   "source": [
    "ans= List"
   ]
  },
  {
   "cell_type": "markdown",
   "id": "b9b913c4-7450-41bf-919c-1db58463b876",
   "metadata": {},
   "source": [
    "(iv) var4 = 1"
   ]
  },
  {
   "cell_type": "markdown",
   "id": "e2901182-0441-4af7-b870-a7b7588aeb9a",
   "metadata": {},
   "source": [
    "ans= Integer "
   ]
  },
  {
   "cell_type": "markdown",
   "id": "596cc942-57ca-46fa-9af2-c17f4d288cd1",
   "metadata": {},
   "source": [
    "Q3. Explain the use of the following operators using an example:"
   ]
  },
  {
   "cell_type": "markdown",
   "id": "f5d4b6c0-2527-4520-b5bc-a42f53a18264",
   "metadata": {},
   "source": [
    "(i) /: It is a division operator, it divided 2 numbers. For example:"
   ]
  },
  {
   "cell_type": "code",
   "execution_count": 13,
   "id": "c97c5640-6930-4a08-9ac3-49bd0ed79538",
   "metadata": {},
   "outputs": [],
   "source": [
    "a = 12\n",
    "b = 6"
   ]
  },
  {
   "cell_type": "code",
   "execution_count": 14,
   "id": "f04182af-87df-4b1d-a347-68fa1158c879",
   "metadata": {},
   "outputs": [
    {
     "name": "stdout",
     "output_type": "stream",
     "text": [
      "2.0\n"
     ]
    }
   ],
   "source": [
    "print(a/b)"
   ]
  },
  {
   "cell_type": "markdown",
   "id": "84faae86-0167-4438-a01a-e32cdab86a4c",
   "metadata": {},
   "source": [
    "(ii) %: It is a modulus operator, it gives the remainder of 2 numbers. For example:"
   ]
  },
  {
   "cell_type": "code",
   "execution_count": 16,
   "id": "b1be53ad-a04c-4f59-a548-6028dea1af7e",
   "metadata": {},
   "outputs": [
    {
     "name": "stdout",
     "output_type": "stream",
     "text": [
      "0\n"
     ]
    }
   ],
   "source": [
    "print(a%b)"
   ]
  },
  {
   "cell_type": "markdown",
   "id": "eb7f0c0c-c2a6-46dc-926d-57c02545f79a",
   "metadata": {},
   "source": [
    "(iii) //: It is a floor division operator, it gives the division of 2 numbers rounded off in integer. For example:"
   ]
  },
  {
   "cell_type": "code",
   "execution_count": 17,
   "id": "c0a2afdb-7e47-4abb-9486-41853620081e",
   "metadata": {},
   "outputs": [
    {
     "name": "stdout",
     "output_type": "stream",
     "text": [
      "2\n"
     ]
    }
   ],
   "source": [
    "print(a//b)"
   ]
  },
  {
   "cell_type": "markdown",
   "id": "7c0d9aad-f092-48f5-b50b-473644b48170",
   "metadata": {},
   "source": [
    "(iv) **: It is a power operator, it gives the number raise to the power of another number. For example:"
   ]
  },
  {
   "cell_type": "code",
   "execution_count": 18,
   "id": "b84c8e19-2939-477d-8930-62ce209a0e1c",
   "metadata": {},
   "outputs": [
    {
     "name": "stdout",
     "output_type": "stream",
     "text": [
      "2985984\n"
     ]
    }
   ],
   "source": [
    "print(a**b)"
   ]
  },
  {
   "cell_type": "markdown",
   "id": "5ef71609-1bc5-4cde-b194-70db6caefd60",
   "metadata": {},
   "source": [
    "Q4. Create a list of length 10 of your choice containing multiple types of data. Using for loop print the\n",
    "element and its data type."
   ]
  },
  {
   "cell_type": "code",
   "execution_count": 2,
   "id": "cb5c788c-42b8-43d8-972f-127adc981ca5",
   "metadata": {},
   "outputs": [],
   "source": [
    "lis1 = [\"str\", 1,2,3,4, True, False, \"hello\", 12.3444, 12222123233123.12232132132]"
   ]
  },
  {
   "cell_type": "code",
   "execution_count": 3,
   "id": "4ec40cd7-b037-499a-8d41-cf8341c721dc",
   "metadata": {},
   "outputs": [
    {
     "name": "stdout",
     "output_type": "stream",
     "text": [
      "str\n",
      "<class 'str'>\n",
      "1\n",
      "<class 'int'>\n",
      "2\n",
      "<class 'int'>\n",
      "3\n",
      "<class 'int'>\n",
      "4\n",
      "<class 'int'>\n",
      "True\n",
      "<class 'bool'>\n",
      "False\n",
      "<class 'bool'>\n",
      "hello\n",
      "<class 'str'>\n",
      "12.3444\n",
      "<class 'float'>\n",
      "12222123233123.123\n",
      "<class 'float'>\n"
     ]
    }
   ],
   "source": [
    "for i in lis1:\n",
    "    print(i) \n",
    "    print(type(i))"
   ]
  },
  {
   "cell_type": "markdown",
   "id": "6869d83f-5798-4d60-986a-9d6ba52648dd",
   "metadata": {},
   "source": [
    "Q5. Using a while loop, verify if the number A is purely divisible by number B and if so then how many\n",
    "times it can be divisible."
   ]
  },
  {
   "cell_type": "code",
   "execution_count": 7,
   "id": "fb2f1678-4323-4804-bb85-acd499021108",
   "metadata": {},
   "outputs": [
    {
     "name": "stdout",
     "output_type": "stream",
     "text": [
      "50 is divisible by 5 , 2 times.\n"
     ]
    }
   ],
   "source": [
    "def divs_count(a,b):\n",
    "    count = 0\n",
    "    while (a%b==0):\n",
    "        count += 1\n",
    "        a /= b\n",
    "    return count \n",
    "A = 50\n",
    "B = 5\n",
    "divisions = divs_count(A,B)\n",
    "if (divisions>0):\n",
    "    print(A,\"is divisible by\",B,\",\",divisions,\"times.\")\n",
    "else:\n",
    "    print(\"A is not divisible by b\")"
   ]
  },
  {
   "cell_type": "markdown",
   "id": "c4550820-d706-4b3c-b996-62e77658d0a6",
   "metadata": {},
   "source": [
    "Q6. Create a list containing 25 int type data. Using for loop and if-else condition print if the element is\n",
    "divisible by 3 or not."
   ]
  },
  {
   "cell_type": "code",
   "execution_count": 8,
   "id": "5ead7fc3-37be-407d-bbd6-2493b9debd87",
   "metadata": {},
   "outputs": [],
   "source": [
    "lis2 = [1,2,3,4,5,6,7,8,9,10,11,12,13,14,15,16,17,18,19,20,21,22,23,24,25]"
   ]
  },
  {
   "cell_type": "code",
   "execution_count": 9,
   "id": "b4865406-2963-49c7-94fb-5ab282db689d",
   "metadata": {},
   "outputs": [
    {
     "name": "stdout",
     "output_type": "stream",
     "text": [
      "1 is not divisible by 3\n",
      "2 is not divisible by 3\n",
      "3 is divisible by 3\n",
      "4 is not divisible by 3\n",
      "5 is not divisible by 3\n",
      "6 is divisible by 3\n",
      "7 is not divisible by 3\n",
      "8 is not divisible by 3\n",
      "9 is divisible by 3\n",
      "10 is not divisible by 3\n",
      "11 is not divisible by 3\n",
      "12 is divisible by 3\n",
      "13 is not divisible by 3\n",
      "14 is not divisible by 3\n",
      "15 is divisible by 3\n",
      "16 is not divisible by 3\n",
      "17 is not divisible by 3\n",
      "18 is divisible by 3\n",
      "19 is not divisible by 3\n",
      "20 is not divisible by 3\n",
      "21 is divisible by 3\n",
      "22 is not divisible by 3\n",
      "23 is not divisible by 3\n",
      "24 is divisible by 3\n",
      "25 is not divisible by 3\n"
     ]
    }
   ],
   "source": [
    "for i in lis2:\n",
    "    if(i%3==0):\n",
    "        print(i,\"is divisible by 3\")\n",
    "    else:\n",
    "        print(i,\"is not divisible by 3\")"
   ]
  },
  {
   "cell_type": "markdown",
   "id": "b58441d2-3615-433c-ae39-969ed1ce7bfd",
   "metadata": {},
   "source": [
    "Q7. What do you understand about mutable and immutable data types? Give examples for both showing\n",
    "this property."
   ]
  },
  {
   "cell_type": "markdown",
   "id": "91a7fe9f-81e5-4d2d-8581-87ac0ce1aeed",
   "metadata": {},
   "source": [
    "ans= mutable data types are those data types which can be altered or modified after their making\n",
    "whereas immutabile data types can not be altered or changed once they are created.\n",
    "For example: List is a mutable data type where a String is an immutable data type."
   ]
  }
 ],
 "metadata": {
  "kernelspec": {
   "display_name": "Python 3 (ipykernel)",
   "language": "python",
   "name": "python3"
  },
  "language_info": {
   "codemirror_mode": {
    "name": "ipython",
    "version": 3
   },
   "file_extension": ".py",
   "mimetype": "text/x-python",
   "name": "python",
   "nbconvert_exporter": "python",
   "pygments_lexer": "ipython3",
   "version": "3.10.8"
  }
 },
 "nbformat": 4,
 "nbformat_minor": 5
}
